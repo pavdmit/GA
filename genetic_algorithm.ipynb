{
 "cells": [
  {
   "cell_type": "code",
   "execution_count": 1,
   "id": "701bb5b2",
   "metadata": {},
   "outputs": [],
   "source": [
    "from sklearn import model_selection, datasets, linear_model, metrics\n",
    "from matplotlib.colors import ListedColormap\n",
    "import matplotlib as plt\n",
    "\n",
    "from json import dump\n",
    "import numpy as np\n",
    "import random as rnd"
   ]
  },
  {
   "cell_type": "code",
   "execution_count": 2,
   "id": "4b2d8d86",
   "metadata": {
    "scrolled": true
   },
   "outputs": [
    {
     "name": "stdout",
     "output_type": "stream",
     "text": [
      "Populating the interactive namespace from numpy and matplotlib\n"
     ]
    },
    {
     "name": "stderr",
     "output_type": "stream",
     "text": [
      "/Users/pd/opt/anaconda3/lib/python3.8/site-packages/IPython/core/magics/pylab.py:159: UserWarning: pylab import has clobbered these variables: ['plt']\n",
      "`%matplotlib` prevents importing * from pylab and numpy\n",
      "  warn(\"pylab import has clobbered these variables: %s\"  % clobbered +\n"
     ]
    }
   ],
   "source": [
    "%pylab inline"
   ]
  },
  {
   "cell_type": "markdown",
   "id": "f1950a33",
   "metadata": {},
   "source": [
    "# **Генерируем множество точек**"
   ]
  },
  {
   "cell_type": "code",
   "execution_count": 3,
   "id": "bff286db",
   "metadata": {},
   "outputs": [],
   "source": [
    "blobs = datasets.make_blobs(centers = 2, cluster_std = 5.5, random_state=10)\n",
    "x_coordinates = [int(x[0]) for x in blobs[0]]\n",
    "y_coordinates = [int(x[1]) for x in blobs[0]]"
   ]
  },
  {
   "cell_type": "markdown",
   "id": "abc41bc5",
   "metadata": {},
   "source": [
    "# **Объявляем класс генетического алгоритма**"
   ]
  },
  {
   "cell_type": "code",
   "execution_count": 4,
   "id": "5269d342",
   "metadata": {},
   "outputs": [],
   "source": [
    "class GA:\n",
    "    def __init__(self, estimator, bounds=None, dimension=None, steps_number=100, accuracy=None, stagnation=None,\n",
    "                 population_size=20, survive_part=0.25, productivity=4, crossover_type=\"split\",\n",
    "                 number_of_mutated_individuals=1, mutation_type=\"1_step\", filename=\"final_population.json\"):\n",
    "        self.estimator = estimator\n",
    "        self.steps_number = steps_number\n",
    "        self.accuracy = accuracy\n",
    "        self.stagnation = stagnation\n",
    "        self.population_size = population_size\n",
    "        self.survive_part = survive_part\n",
    "        self.productivity = productivity\n",
    "        self.crossover_type = crossover_type\n",
    "        self.number_of_mutated_individuals = number_of_mutated_individuals\n",
    "        self.mutation_type = mutation_type\n",
    "        self.filename = filename\n",
    "        self.best = [] \n",
    "        default_step = 0.01\n",
    "        default_bounds = (-100, 100)\n",
    "        self.best_ever = None\n",
    "        if type(bounds) is list:\n",
    "            self.bounds = bounds\n",
    "        elif type(bounds) is tuple and dimension:\n",
    "            try:\n",
    "                self.bounds = [(bounds[0], bounds[1], bounds[2])] * dimension\n",
    "            except IndexError:\n",
    "                self.bounds = [(bounds[0], bounds[1], default_step)] * dimension\n",
    "        elif not bounds:\n",
    "            self.bounds = [(default_bounds[0], default_bounds[1], default_step)] * dimension\n",
    "\n",
    "    def fit(self, steps=None, new_individuals=None):\n",
    "        if steps:\n",
    "            self.steps_number = steps\n",
    "        if type(new_individuals) != list:\n",
    "            new_individuals = []\n",
    "        self.best_ever = None\n",
    "        for i in range(self.steps_number):\n",
    "            population = self.generate_population(new_individuals)\n",
    "            survivors = self.survive(population)\n",
    "            new_individuals = self.crossover(survivors)\n",
    "            self.best.append(survivors[0])\n",
    "            if not self.best_ever:\n",
    "                self.best_ever = self.best[-1]\n",
    "            else:\n",
    "                self.best_ever = max(self.best_ever, self.best[-1], key=lambda i: i[1])\n",
    "            if self.filename:\n",
    "                dump(new_individuals, open(self.filename, \"w\"), separators=(\",\", \":\"))\n",
    "            if self.stagnation:\n",
    "                best_fitness = [i[1] for i in self.best[-self.stagnation:]]\n",
    "                if len(best_fitness) == self.stagnation and len(set(best_fitness)) == 1:\n",
    "                    new_individuals = self.cataclysm(population)\n",
    "        return self.best_ever\n",
    "\n",
    "    def generate_population(self, new_individuals):\n",
    "        population = []\n",
    "        for individual in new_individuals:\n",
    "            individual = self.mutate(individual, self.mutation_type, self.number_of_mutated_individuals)\n",
    "            fitness = self.estimator(individual)\n",
    "            population.append((individual, fitness))\n",
    "        for _ in range(self.population_size - len(new_individuals)):\n",
    "            individual = []\n",
    "            if \"random\" in self.mutation_type or \"change\" in self.mutation_type:\n",
    "                for bounds in self.bounds:\n",
    "                    gene = rnd.uniform(bounds[0], bounds[1])\n",
    "                    individual.append(gene)\n",
    "            elif \"step\" in self.mutation_type:\n",
    "                for bounds in self.bounds:\n",
    "                    step = bounds[2]\n",
    "                    gene = rnd.choice(possible_genes(bounds[0], bounds[1] + step, step))\n",
    "                    individual.append(gene)\n",
    "            fitness = self.estimator(individual)\n",
    "            population.append((individual, fitness))\n",
    "            new_individuals.append(individual)\n",
    "        return population\n",
    "\n",
    "    def survive(self, population):\n",
    "        num_survivors = int(self.population_size * self.survive_part)\n",
    "        best = sorted(population, key=lambda i: -i[1])[:num_survivors]\n",
    "        return best\n",
    "\n",
    "    def crossover(self, best):\n",
    "        new_individuals = []\n",
    "        for _ in range(len(best) * self.productivity):\n",
    "            dad, mom = rnd.sample(best, 2)\n",
    "            dad, mom = dad[0], mom[0]\n",
    "            child = []\n",
    "            if self.crossover_type == \"random\":\n",
    "                for gene_m, gene_f in zip(dad, mom):\n",
    "                    gene = rnd.choice((gene_m, gene_f))\n",
    "                    child.append(gene)\n",
    "            elif self.crossover_type == \"split\":\n",
    "                split = len(dad) // 2\n",
    "                child = dad[:split] + mom[split:]\n",
    "            new_individuals.append(child)\n",
    "        return new_individuals\n",
    "\n",
    "    def mutate(self, individual, mutagen, mutate_genes=None):\n",
    "        if mutagen == \"one_random\":\n",
    "            gene_ids = [rnd.randint(0, len(individual) - 1) for _ in range(mutate_genes)]\n",
    "            for gene_id in gene_ids:\n",
    "                gene_id = rnd.randint(0, len(individual) - 1)\n",
    "                individual[gene_id] = rnd.uniform(self.bounds[gene_id][0], self.bounds[gene_id][1])\n",
    "        elif mutagen == \"full_random\":\n",
    "            for gene_id in range(len(individual)):\n",
    "                individual[gene_id] = rnd.uniform(self.bounds[gene_id][0], self.bounds[gene_id][1])\n",
    "        elif mutagen == \"one_change\":\n",
    "            gene_ids = [rnd.randint(0, len(individual) - 1) for _ in range(mutate_genes)]\n",
    "            for gene_id in gene_ids:\n",
    "                while True:\n",
    "                    coef = rnd.uniform(0.9, 1.1)\n",
    "                    if self.bounds[gene_id][0] <= individual[gene_id] * coef <= self.bounds[gene_id][1]:\n",
    "                        individual[gene_id] *= coef\n",
    "                        break\n",
    "        elif mutagen == \"full_change\":\n",
    "            for gene_id in range(len(individual)):\n",
    "                while True:\n",
    "                    coef = rnd.uniform(0.9, 1.1)\n",
    "                    if self.bounds[gene_id][0] <= individual[gene_id] * coef <= self.bounds[gene_id][1]:\n",
    "                        individual[gene_id] *= coef\n",
    "                        break\n",
    "        elif mutagen == \"one_step\":\n",
    "            gene_ids = [rnd.randint(0, len(individual) - 1) for _ in range(mutate_genes)]\n",
    "            for gene_id in gene_ids:\n",
    "                gene_id = rnd.randint(0, len(individual) - 1)\n",
    "                while True:\n",
    "                    step = self.bounds[gene_id][2]\n",
    "                    step = rnd.choice([-step, step])\n",
    "                    if self.bounds[gene_id][0] <= individual[gene_id] + step <= self.bounds[gene_id][1]:\n",
    "                        individual[gene_id] += step\n",
    "                        break\n",
    "        elif mutagen == \"full_step\":\n",
    "            for gene_id in range(len(individual)):\n",
    "                while True:\n",
    "                    step = self.bounds[gene_id][2]\n",
    "                    step = rnd.choice([-step, step])\n",
    "                    if self.bounds[gene_id][0] <= individual[gene_id] + step <= self.bounds[gene_id][1]:\n",
    "                        individual[gene_id] += step\n",
    "                        break\n",
    "        return individual\n",
    "\n",
    "    def cataclysm(self, population):\n",
    "        post_population = []\n",
    "        for individual, _fitness in population:\n",
    "            post_population.append(self.mutate(individual, self.mutation_type, self.number_of_mutated_individuals))\n",
    "        return post_population\n",
    "\n",
    "\n",
    "def possible_genes(start, stop, step):\n",
    "    genes = []\n",
    "    while start < stop:\n",
    "        genes.append(start)\n",
    "        start += step\n",
    "    return genes"
   ]
  },
  {
   "cell_type": "markdown",
   "id": "b96fec35",
   "metadata": {},
   "source": [
    "# **Функция среднеквадратичной ошибки**"
   ]
  },
  {
   "cell_type": "code",
   "execution_count": 5,
   "id": "1cd2a0e0",
   "metadata": {},
   "outputs": [],
   "source": [
    "def MSE(x):\n",
    "    error = 0\n",
    "    for i in range(len(x_coordinates)):\n",
    "        error += (x[0] * x_coordinates[i] + x[1] - y_coordinates[i]) ** 2\n",
    "    return -abs(error)"
   ]
  },
  {
   "cell_type": "code",
   "execution_count": 6,
   "id": "aedc42c5",
   "metadata": {},
   "outputs": [
    {
     "name": "stdout",
     "output_type": "stream",
     "text": [
      "Solution: [[-0.1239646260022198, -0.2755864158788768], 87.64725567202774]\n"
     ]
    }
   ],
   "source": [
    "ga = GA(MSE, bounds=(-100, 100, 1), dimension=2, steps_number=1000, accuracy=0, stagnation=3,\n",
    "            population_size=10, survive_part=0.2, productivity=4, mutation_type=\"full_random\")\n",
    "result = ga.fit()\n",
    "solution = []\n",
    "solution.append(result[0])\n",
    "solution.append(np.sqrt(-result[1]))\n",
    "print(\"Solution:\", solution)"
   ]
  },
  {
   "cell_type": "markdown",
   "id": "14521a83",
   "metadata": {},
   "source": [
    "# **Строим множество точек из двух классов и разделяющую их прямую**"
   ]
  },
  {
   "cell_type": "code",
   "execution_count": 7,
   "id": "9c362d4e",
   "metadata": {},
   "outputs": [
    {
     "data": {
      "text/plain": [
       "[<matplotlib.lines.Line2D at 0x7ffcf5e07820>]"
      ]
     },
     "execution_count": 7,
     "metadata": {},
     "output_type": "execute_result"
    },
    {
     "data": {
      "image/png": "[encoded data removed]",
      "text/plain": [
       "<Figure size 1080x1080 with 1 Axes>"
      ]
     },
     "metadata": {
      "needs_background": "light"
     },
     "output_type": "display_data"
    }
   ],
   "source": [
    "colors = ListedColormap(['red', 'blue'])\n",
    "pylab.figure(figsize(15, 15))\n",
    "pylab.scatter(x_coordinates, y_coordinates, c=blobs[1], cmap=colors)\n",
    "x = np.linspace(-10,20,100)\n",
    "y = solution[0][0]*x+solution[0][1]\n",
    "pylab.plot(x,y,'-y')"
   ]
  },
  {
   "cell_type": "code",
   "execution_count": null,
   "id": "d61e4246",
   "metadata": {},
   "outputs": [],
   "source": []
  }
 ],
 "metadata": {
  "kernelspec": {
   "display_name": "Python 3 (ipykernel)",
   "language": "python",
   "name": "python3"
  },
  "language_info": {
   "codemirror_mode": {
    "name": "ipython",
    "version": 3
   },
   "file_extension": ".py",
   "mimetype": "text/x-python",
   "name": "python",
   "nbconvert_exporter": "python",
   "pygments_lexer": "ipython3",
   "version": "3.8.11"
  }
 },
 "nbformat": 4,
 "nbformat_minor": 5
}
